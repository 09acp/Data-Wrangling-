{
 "cells": [
  {
   "cell_type": "markdown",
   "metadata": {},
   "source": [
    "# PANDAS recap \n",
    "- sklearn California Housing df\n",
    "- [Youtube Tutorial](https://www.youtube.com/watch?v=b0j3R2ovpm0&list=PLqrmzsjOpq5jRH3uPWix4H6Ilc0NdJCPD&index=3&t=0s)\n",
    "\n",
    "**Series**\n",
    "- 1) Timestamps and DatetimeIndex.\n",
    "- 2) Time-Series processing - combining different ts.\n",
    "\n",
    "**DataFrames**\n",
    "- 1) DF constructor example\n",
    "- 2) Boolean Addressing\n",
    "- 3) **boolean indexing as variable** -> efficient data retrieval\n",
    "- 4) df manipulation\n",
    "\n",
    "**Real Example**\n",
    "- 1) stylign notebook\n",
    "- 2) list comprehension\n",
    "- 3) slice data based on index\n",
    "- 4) boolean indexing to retrieve specific data values\n",
    "- 5) Advanced Conditional Indexing\n",
    "- 6) GroupBy"
   ]
  },
  {
   "cell_type": "code",
   "execution_count": 143,
   "metadata": {},
   "outputs": [],
   "source": [
    "import pandas as pd \n",
    "import numpy as np\n",
    "import matplotlib.pyplot as plt"
   ]
  },
  {
   "cell_type": "markdown",
   "metadata": {},
   "source": [
    "## Pandas Series - every element of same dtype\n",
    "#### Indexing for data selection"
   ]
  },
  {
   "cell_type": "code",
   "execution_count": 48,
   "metadata": {},
   "outputs": [
    {
     "data": {
      "text/plain": [
       "A    0\n",
       "B    1\n",
       "C    2\n",
       "dtype: int64"
      ]
     },
     "execution_count": 48,
     "metadata": {},
     "output_type": "execute_result"
    }
   ],
   "source": [
    "index_series = pd.Series(['A','B','C'])\n",
    "s1 = pd.Series(range(3), index = index_series)\n",
    "s1"
   ]
  },
  {
   "cell_type": "markdown",
   "metadata": {},
   "source": [
    "#### Assignemnt "
   ]
  },
  {
   "cell_type": "code",
   "execution_count": 49,
   "metadata": {},
   "outputs": [
    {
     "data": {
      "text/plain": [
       "A    1000\n",
       "B       1\n",
       "C       2\n",
       "dtype: int64"
      ]
     },
     "execution_count": 49,
     "metadata": {},
     "output_type": "execute_result"
    }
   ],
   "source": [
    "s1['A'] = 1000\n",
    "s1"
   ]
  },
  {
   "cell_type": "markdown",
   "metadata": {},
   "source": [
    "#### Slicing"
   ]
  },
  {
   "cell_type": "code",
   "execution_count": 50,
   "metadata": {},
   "outputs": [
    {
     "data": {
      "text/plain": [
       "B    1\n",
       "C    2\n",
       "dtype: int64"
      ]
     },
     "execution_count": 50,
     "metadata": {},
     "output_type": "execute_result"
    }
   ],
   "source": [
    "s1['B':'C']"
   ]
  },
  {
   "cell_type": "markdown",
   "metadata": {},
   "source": [
    "#### DatetimeIndex "
   ]
  },
  {
   "cell_type": "code",
   "execution_count": 59,
   "metadata": {
    "scrolled": true
   },
   "outputs": [
    {
     "data": {
      "text/plain": [
       "DatetimeIndex(['2000-01-02', '2000-01-09', '2000-01-16', '2000-01-23',\n",
       "               '2000-01-30', '2000-02-06', '2000-02-13', '2000-02-20',\n",
       "               '2000-02-27', '2000-03-05'],\n",
       "              dtype='datetime64[ns]', freq='W-SUN')"
      ]
     },
     "execution_count": 59,
     "metadata": {},
     "output_type": "execute_result"
    }
   ],
   "source": [
    "dates = pd.date_range('1/01/2000', periods=10, freq='W')\n",
    "dates"
   ]
  },
  {
   "cell_type": "code",
   "execution_count": 61,
   "metadata": {},
   "outputs": [
    {
     "data": {
      "text/plain": [
       "2000-01-02    0\n",
       "2000-01-09    1\n",
       "2000-01-16    2\n",
       "2000-01-23    3\n",
       "2000-01-30    4\n",
       "2000-02-06    5\n",
       "2000-02-13    6\n",
       "2000-02-20    7\n",
       "2000-02-27    8\n",
       "2000-03-05    9\n",
       "Freq: W-SUN, dtype: int64"
      ]
     },
     "execution_count": 61,
     "metadata": {},
     "output_type": "execute_result"
    }
   ],
   "source": [
    "values = range(len(dates))\n",
    "s2 = pd.Series(values,index=dates)\n",
    "s2"
   ]
  },
  {
   "cell_type": "code",
   "execution_count": 62,
   "metadata": {},
   "outputs": [
    {
     "data": {
      "text/plain": [
       "6"
      ]
     },
     "execution_count": 62,
     "metadata": {},
     "output_type": "execute_result"
    }
   ],
   "source": [
    "s2['2000-02-13']"
   ]
  },
  {
   "cell_type": "markdown",
   "metadata": {},
   "source": [
    "#### slicing series based on timestamps"
   ]
  },
  {
   "cell_type": "code",
   "execution_count": 63,
   "metadata": {},
   "outputs": [
    {
     "data": {
      "text/plain": [
       "2000-01-23    3\n",
       "2000-01-30    4\n",
       "Freq: W-SUN, dtype: int64"
      ]
     },
     "execution_count": 63,
     "metadata": {},
     "output_type": "execute_result"
    }
   ],
   "source": [
    "s2[dates[3:5]]"
   ]
  },
  {
   "cell_type": "markdown",
   "metadata": {},
   "source": [
    "#### computational indexing"
   ]
  },
  {
   "cell_type": "code",
   "execution_count": 67,
   "metadata": {},
   "outputs": [
    {
     "data": {
      "text/plain": [
       "Timestamp('2000-03-05 00:00:00', freq='W-SUN')"
      ]
     },
     "execution_count": 67,
     "metadata": {},
     "output_type": "execute_result"
    }
   ],
   "source": [
    "ts = dates[9]\n",
    "ts # timestamp of specific date point"
   ]
  },
  {
   "cell_type": "code",
   "execution_count": 77,
   "metadata": {},
   "outputs": [
    {
     "name": "stderr",
     "output_type": "stream",
     "text": [
      "C:\\Users\\09ale\\Anaconda3\\lib\\site-packages\\ipykernel_launcher.py:1: FutureWarning: Addition/subtraction of integers and integer-arrays to Timestamp is deprecated, will be removed in a future version.  Instead of adding/subtracting `n`, use `n * self.freq`\n",
      "  \"\"\"Entry point for launching an IPython kernel.\n"
     ]
    },
    {
     "data": {
      "text/plain": [
       "2000-03-05    9\n",
       "Freq: W-SUN, dtype: int64"
      ]
     },
     "execution_count": 77,
     "metadata": {},
     "output_type": "execute_result"
    }
   ],
   "source": [
    "s2[ts: ts+3] # look for 3 days in the future"
   ]
  },
  {
   "cell_type": "markdown",
   "metadata": {},
   "source": [
    "#### assignment"
   ]
  },
  {
   "cell_type": "code",
   "execution_count": 90,
   "metadata": {},
   "outputs": [
    {
     "data": {
      "text/plain": [
       "2000-01-02             0\n",
       "2000-01-09    Alex Rules\n",
       "2000-01-16    Alex Rules\n",
       "2000-01-23    Alex Rules\n",
       "2000-01-30             4\n",
       "2000-02-06             5\n",
       "2000-02-13             6\n",
       "2000-02-20             7\n",
       "2000-02-27             8\n",
       "2000-03-05             9\n",
       "Freq: W-SUN, dtype: object"
      ]
     },
     "execution_count": 90,
     "metadata": {},
     "output_type": "execute_result"
    }
   ],
   "source": [
    "s2[dates[1:4]] = 'Alex Rules'\n",
    "s2"
   ]
  },
  {
   "cell_type": "markdown",
   "metadata": {},
   "source": [
    "### Time-Series Processing\n",
    "#### merge 2 time series "
   ]
  },
  {
   "cell_type": "code",
   "execution_count": 83,
   "metadata": {},
   "outputs": [
    {
     "data": {
      "text/plain": [
       "DatetimeIndex(['2015-04-26 00:00:00', '2015-04-26 12:00:00',\n",
       "               '2015-04-27 00:00:00', '2015-04-27 12:00:00',\n",
       "               '2015-04-28 00:00:00', '2015-04-28 12:00:00',\n",
       "               '2015-04-29 00:00:00', '2015-04-29 12:00:00',\n",
       "               '2015-04-30 00:00:00', '2015-04-30 12:00:00'],\n",
       "              dtype='datetime64[ns]', freq='12H')"
      ]
     },
     "execution_count": 83,
     "metadata": {},
     "output_type": "execute_result"
    }
   ],
   "source": [
    "# Timeseries 1\n",
    "dates_offset = pd.date_range('4/26/15',periods=10,freq='12H')\n",
    "dates_offset"
   ]
  },
  {
   "cell_type": "code",
   "execution_count": 85,
   "metadata": {},
   "outputs": [
    {
     "data": {
      "text/plain": [
       "2015-04-26 00:00:00       0\n",
       "2015-04-26 12:00:00    1000\n",
       "2015-04-27 00:00:00    2000\n",
       "2015-04-27 12:00:00    3000\n",
       "2015-04-28 00:00:00    4000\n",
       "2015-04-28 12:00:00    5000\n",
       "2015-04-29 00:00:00    6000\n",
       "2015-04-29 12:00:00    7000\n",
       "2015-04-30 00:00:00    8000\n",
       "2015-04-30 12:00:00    9000\n",
       "Freq: 12H, dtype: int64"
      ]
     },
     "execution_count": 85,
     "metadata": {},
     "output_type": "execute_result"
    }
   ],
   "source": [
    "# base ts\n",
    "s_offset = pd.Series(range(len(dates_offset)), index=dates_offset)\n",
    "s_offset = s_offset * 1000 # modify values\n",
    "s_offset"
   ]
  },
  {
   "cell_type": "code",
   "execution_count": 86,
   "metadata": {},
   "outputs": [
    {
     "data": {
      "text/plain": [
       "2000-01-02 00:00:00             0\n",
       "2000-01-09 00:00:00    Alex Rules\n",
       "2000-01-16 00:00:00    Alex Rules\n",
       "2000-01-23 00:00:00    Alex Rules\n",
       "2000-01-30 00:00:00             4\n",
       "2000-02-06 00:00:00             5\n",
       "2000-02-13 00:00:00             6\n",
       "2000-02-20 00:00:00             7\n",
       "2000-02-27 00:00:00             8\n",
       "2000-03-05 00:00:00             9\n",
       "2015-04-26 00:00:00             0\n",
       "2015-04-26 12:00:00          1000\n",
       "2015-04-27 00:00:00          2000\n",
       "2015-04-27 12:00:00          3000\n",
       "2015-04-28 00:00:00          4000\n",
       "2015-04-28 12:00:00          5000\n",
       "2015-04-29 00:00:00          6000\n",
       "2015-04-29 12:00:00          7000\n",
       "2015-04-30 00:00:00          8000\n",
       "2015-04-30 12:00:00          9000\n",
       "dtype: object"
      ]
     },
     "execution_count": 86,
     "metadata": {},
     "output_type": "execute_result"
    }
   ],
   "source": [
    "# Combine 2 timeseries \n",
    "pd.concat([s_offset,s2]).sort_index() # sorts index"
   ]
  },
  {
   "cell_type": "markdown",
   "metadata": {},
   "source": [
    "#### Timestamps allow for computations"
   ]
  },
  {
   "cell_type": "code",
   "execution_count": 60,
   "metadata": {},
   "outputs": [
    {
     "name": "stderr",
     "output_type": "stream",
     "text": [
      "C:\\Users\\09ale\\Anaconda3\\lib\\site-packages\\ipykernel_launcher.py:1: FutureWarning: Addition/subtraction of integers and integer-arrays to Timestamp is deprecated, will be removed in a future version.  Instead of adding/subtracting `n`, use `n * self.freq`\n",
      "  \"\"\"Entry point for launching an IPython kernel.\n"
     ]
    },
    {
     "data": {
      "text/plain": [
       "Timestamp('2001-12-09 00:00:00', freq='W-SUN')"
      ]
     },
     "execution_count": 60,
     "metadata": {},
     "output_type": "execute_result"
    }
   ],
   "source": [
    "dates[1]+100 # element 1 + 100 days "
   ]
  },
  {
   "cell_type": "markdown",
   "metadata": {},
   "source": [
    "## DataFrames - elements of mixed dtypes"
   ]
  },
  {
   "cell_type": "markdown",
   "metadata": {},
   "source": [
    "#### 1 of many df constructors"
   ]
  },
  {
   "cell_type": "code",
   "execution_count": 125,
   "metadata": {},
   "outputs": [
    {
     "data": {
      "text/html": [
       "<div>\n",
       "<style scoped>\n",
       "    .dataframe tbody tr th:only-of-type {\n",
       "        vertical-align: middle;\n",
       "    }\n",
       "\n",
       "    .dataframe tbody tr th {\n",
       "        vertical-align: top;\n",
       "    }\n",
       "\n",
       "    .dataframe thead th {\n",
       "        text-align: right;\n",
       "    }\n",
       "</style>\n",
       "<table border=\"1\" class=\"dataframe\">\n",
       "  <thead>\n",
       "    <tr style=\"text-align: right;\">\n",
       "      <th></th>\n",
       "      <th>col0</th>\n",
       "      <th>col1</th>\n",
       "    </tr>\n",
       "  </thead>\n",
       "  <tbody>\n",
       "    <tr>\n",
       "      <td>1970-01-04</td>\n",
       "      <td>0</td>\n",
       "      <td>100</td>\n",
       "    </tr>\n",
       "    <tr>\n",
       "      <td>1970-01-11</td>\n",
       "      <td>1</td>\n",
       "      <td>101</td>\n",
       "    </tr>\n",
       "    <tr>\n",
       "      <td>1970-01-18</td>\n",
       "      <td>2</td>\n",
       "      <td>102</td>\n",
       "    </tr>\n",
       "    <tr>\n",
       "      <td>1970-01-25</td>\n",
       "      <td>3</td>\n",
       "      <td>103</td>\n",
       "    </tr>\n",
       "    <tr>\n",
       "      <td>1970-02-01</td>\n",
       "      <td>4</td>\n",
       "      <td>104</td>\n",
       "    </tr>\n",
       "    <tr>\n",
       "      <td>1970-02-08</td>\n",
       "      <td>5</td>\n",
       "      <td>105</td>\n",
       "    </tr>\n",
       "    <tr>\n",
       "      <td>1970-02-15</td>\n",
       "      <td>6</td>\n",
       "      <td>106</td>\n",
       "    </tr>\n",
       "    <tr>\n",
       "      <td>1970-02-22</td>\n",
       "      <td>7</td>\n",
       "      <td>107</td>\n",
       "    </tr>\n",
       "    <tr>\n",
       "      <td>1970-03-01</td>\n",
       "      <td>8</td>\n",
       "      <td>108</td>\n",
       "    </tr>\n",
       "    <tr>\n",
       "      <td>1970-03-08</td>\n",
       "      <td>9</td>\n",
       "      <td>109</td>\n",
       "    </tr>\n",
       "  </tbody>\n",
       "</table>\n",
       "</div>"
      ],
      "text/plain": [
       "            col0  col1\n",
       "1970-01-04     0   100\n",
       "1970-01-11     1   101\n",
       "1970-01-18     2   102\n",
       "1970-01-25     3   103\n",
       "1970-02-01     4   104\n",
       "1970-02-08     5   105\n",
       "1970-02-15     6   106\n",
       "1970-02-22     7   107\n",
       "1970-03-01     8   108\n",
       "1970-03-08     9   109"
      ]
     },
     "execution_count": 125,
     "metadata": {},
     "output_type": "execute_result"
    }
   ],
   "source": [
    "dates = pd.date_range(20/20/2020, periods=10, freq='W')\n",
    "dates\n",
    "\n",
    "c0 = range(len(dates)) # col1\n",
    "c1 = range(100, 100+len(dates))\n",
    "d = {'col0':pd.Series(c0,index=dates),'col1':pd.Series(c1,index=dates)}\n",
    "df = pd.DataFrame(d)\n",
    "df"
   ]
  },
  {
   "cell_type": "markdown",
   "metadata": {},
   "source": [
    "#### Slicing"
   ]
  },
  {
   "cell_type": "code",
   "execution_count": 97,
   "metadata": {},
   "outputs": [
    {
     "data": {
      "text/plain": [
       "col0      4\n",
       "col1    104\n",
       "Name: 1970-02-01 00:00:00, dtype: int64"
      ]
     },
     "execution_count": 97,
     "metadata": {},
     "output_type": "execute_result"
    }
   ],
   "source": [
    "df.loc['1970-02-01'] # get values of both columns for specific index"
   ]
  },
  {
   "cell_type": "code",
   "execution_count": 98,
   "metadata": {},
   "outputs": [
    {
     "data": {
      "text/plain": [
       "104"
      ]
     },
     "execution_count": 98,
     "metadata": {},
     "output_type": "execute_result"
    }
   ],
   "source": [
    "df.loc['1970-02-01']['col1'] # get value for specific column 1"
   ]
  },
  {
   "cell_type": "markdown",
   "metadata": {},
   "source": [
    "#### Add values"
   ]
  },
  {
   "cell_type": "code",
   "execution_count": 100,
   "metadata": {},
   "outputs": [
    {
     "data": {
      "text/html": [
       "<div>\n",
       "<style scoped>\n",
       "    .dataframe tbody tr th:only-of-type {\n",
       "        vertical-align: middle;\n",
       "    }\n",
       "\n",
       "    .dataframe tbody tr th {\n",
       "        vertical-align: top;\n",
       "    }\n",
       "\n",
       "    .dataframe thead th {\n",
       "        text-align: right;\n",
       "    }\n",
       "</style>\n",
       "<table border=\"1\" class=\"dataframe\">\n",
       "  <thead>\n",
       "    <tr style=\"text-align: right;\">\n",
       "      <th></th>\n",
       "      <th>col0</th>\n",
       "      <th>col1</th>\n",
       "      <th>rand</th>\n",
       "    </tr>\n",
       "  </thead>\n",
       "  <tbody>\n",
       "    <tr>\n",
       "      <td>1970-01-04</td>\n",
       "      <td>0</td>\n",
       "      <td>100</td>\n",
       "      <td>1.624345</td>\n",
       "    </tr>\n",
       "    <tr>\n",
       "      <td>1970-01-11</td>\n",
       "      <td>1</td>\n",
       "      <td>101</td>\n",
       "      <td>-0.611756</td>\n",
       "    </tr>\n",
       "    <tr>\n",
       "      <td>1970-01-18</td>\n",
       "      <td>2</td>\n",
       "      <td>102</td>\n",
       "      <td>-0.528172</td>\n",
       "    </tr>\n",
       "    <tr>\n",
       "      <td>1970-01-25</td>\n",
       "      <td>3</td>\n",
       "      <td>103</td>\n",
       "      <td>-1.072969</td>\n",
       "    </tr>\n",
       "    <tr>\n",
       "      <td>1970-02-01</td>\n",
       "      <td>4</td>\n",
       "      <td>104</td>\n",
       "      <td>0.865408</td>\n",
       "    </tr>\n",
       "    <tr>\n",
       "      <td>1970-02-08</td>\n",
       "      <td>5</td>\n",
       "      <td>105</td>\n",
       "      <td>-2.301539</td>\n",
       "    </tr>\n",
       "    <tr>\n",
       "      <td>1970-02-15</td>\n",
       "      <td>6</td>\n",
       "      <td>106</td>\n",
       "      <td>1.744812</td>\n",
       "    </tr>\n",
       "    <tr>\n",
       "      <td>1970-02-22</td>\n",
       "      <td>7</td>\n",
       "      <td>107</td>\n",
       "      <td>-0.761207</td>\n",
       "    </tr>\n",
       "    <tr>\n",
       "      <td>1970-03-01</td>\n",
       "      <td>8</td>\n",
       "      <td>108</td>\n",
       "      <td>0.319039</td>\n",
       "    </tr>\n",
       "    <tr>\n",
       "      <td>1970-03-08</td>\n",
       "      <td>9</td>\n",
       "      <td>109</td>\n",
       "      <td>-0.249370</td>\n",
       "    </tr>\n",
       "  </tbody>\n",
       "</table>\n",
       "</div>"
      ],
      "text/plain": [
       "            col0  col1      rand\n",
       "1970-01-04     0   100  1.624345\n",
       "1970-01-11     1   101 -0.611756\n",
       "1970-01-18     2   102 -0.528172\n",
       "1970-01-25     3   103 -1.072969\n",
       "1970-02-01     4   104  0.865408\n",
       "1970-02-08     5   105 -2.301539\n",
       "1970-02-15     6   106  1.744812\n",
       "1970-02-22     7   107 -0.761207\n",
       "1970-03-01     8   108  0.319039\n",
       "1970-03-08     9   109 -0.249370"
      ]
     },
     "execution_count": 100,
     "metadata": {},
     "output_type": "execute_result"
    }
   ],
   "source": [
    "np.random.seed(1)\n",
    "df['rand'] = np.random.randn(len(df))\n",
    "df"
   ]
  },
  {
   "cell_type": "markdown",
   "metadata": {},
   "source": [
    "#### Operations over Columns"
   ]
  },
  {
   "cell_type": "code",
   "execution_count": 102,
   "metadata": {},
   "outputs": [
    {
     "data": {
      "text/plain": [
       "1970-01-04    -98.375655\n",
       "1970-01-11   -101.611756\n",
       "1970-01-18   -102.528172\n",
       "1970-01-25   -104.072969\n",
       "1970-02-01   -103.134592\n",
       "1970-02-08   -107.301539\n",
       "1970-02-15   -104.255188\n",
       "1970-02-22   -107.761207\n",
       "1970-03-01   -107.680961\n",
       "1970-03-08   -109.249370\n",
       "Freq: W-SUN, dtype: float64"
      ]
     },
     "execution_count": 102,
     "metadata": {},
     "output_type": "execute_result"
    }
   ],
   "source": [
    "df['rand']-df['col1'] # results in a series so can manupulate (eg sum())"
   ]
  },
  {
   "cell_type": "markdown",
   "metadata": {},
   "source": [
    "#### Boolean Addressing"
   ]
  },
  {
   "cell_type": "code",
   "execution_count": 104,
   "metadata": {},
   "outputs": [
    {
     "data": {
      "text/plain": [
       "1970-01-04    False\n",
       "1970-01-11    False\n",
       "1970-01-18    False\n",
       "1970-01-25    False\n",
       "1970-02-01    False\n",
       "1970-02-08    False\n",
       "1970-02-15    False\n",
       "1970-02-22    False\n",
       "1970-03-01    False\n",
       "1970-03-08    False\n",
       "Freq: W-SUN, Name: col1, dtype: bool"
      ]
     },
     "execution_count": 104,
     "metadata": {},
     "output_type": "execute_result"
    }
   ],
   "source": [
    "df < 0.0 # returns True for value satisfying condition\n",
    "\n",
    "# More specific \n",
    "df['col1']<0.0"
   ]
  },
  {
   "cell_type": "markdown",
   "metadata": {},
   "source": [
    "#### Boolean addressing within index"
   ]
  },
  {
   "cell_type": "code",
   "execution_count": 106,
   "metadata": {},
   "outputs": [
    {
     "data": {
      "text/html": [
       "<div>\n",
       "<style scoped>\n",
       "    .dataframe tbody tr th:only-of-type {\n",
       "        vertical-align: middle;\n",
       "    }\n",
       "\n",
       "    .dataframe tbody tr th {\n",
       "        vertical-align: top;\n",
       "    }\n",
       "\n",
       "    .dataframe thead th {\n",
       "        text-align: right;\n",
       "    }\n",
       "</style>\n",
       "<table border=\"1\" class=\"dataframe\">\n",
       "  <thead>\n",
       "    <tr style=\"text-align: right;\">\n",
       "      <th></th>\n",
       "      <th>col0</th>\n",
       "      <th>col1</th>\n",
       "      <th>rand</th>\n",
       "    </tr>\n",
       "  </thead>\n",
       "  <tbody>\n",
       "    <tr>\n",
       "      <td>1970-01-11</td>\n",
       "      <td>1</td>\n",
       "      <td>101</td>\n",
       "      <td>-0.611756</td>\n",
       "    </tr>\n",
       "    <tr>\n",
       "      <td>1970-01-18</td>\n",
       "      <td>2</td>\n",
       "      <td>102</td>\n",
       "      <td>-0.528172</td>\n",
       "    </tr>\n",
       "    <tr>\n",
       "      <td>1970-01-25</td>\n",
       "      <td>3</td>\n",
       "      <td>103</td>\n",
       "      <td>-1.072969</td>\n",
       "    </tr>\n",
       "    <tr>\n",
       "      <td>1970-02-08</td>\n",
       "      <td>5</td>\n",
       "      <td>105</td>\n",
       "      <td>-2.301539</td>\n",
       "    </tr>\n",
       "    <tr>\n",
       "      <td>1970-02-22</td>\n",
       "      <td>7</td>\n",
       "      <td>107</td>\n",
       "      <td>-0.761207</td>\n",
       "    </tr>\n",
       "    <tr>\n",
       "      <td>1970-03-08</td>\n",
       "      <td>9</td>\n",
       "      <td>109</td>\n",
       "      <td>-0.249370</td>\n",
       "    </tr>\n",
       "  </tbody>\n",
       "</table>\n",
       "</div>"
      ],
      "text/plain": [
       "            col0  col1      rand\n",
       "1970-01-11     1   101 -0.611756\n",
       "1970-01-18     2   102 -0.528172\n",
       "1970-01-25     3   103 -1.072969\n",
       "1970-02-08     5   105 -2.301539\n",
       "1970-02-22     7   107 -0.761207\n",
       "1970-03-08     9   109 -0.249370"
      ]
     },
     "execution_count": 106,
     "metadata": {},
     "output_type": "execute_result"
    }
   ],
   "source": [
    "df[df['rand'] < 0.0] # returns value below 0"
   ]
  },
  {
   "cell_type": "markdown",
   "metadata": {},
   "source": [
    "#### Compound boolean queries "
   ]
  },
  {
   "cell_type": "code",
   "execution_count": 112,
   "metadata": {},
   "outputs": [
    {
     "data": {
      "text/plain": [
       "1970-01-04    False\n",
       "1970-01-11    False\n",
       "1970-01-18    False\n",
       "1970-01-25    False\n",
       "1970-02-01    False\n",
       "1970-02-08    False\n",
       "1970-02-15    False\n",
       "1970-02-22     True\n",
       "1970-03-01    False\n",
       "1970-03-08     True\n",
       "Freq: W-SUN, dtype: bool"
      ]
     },
     "execution_count": 112,
     "metadata": {},
     "output_type": "execute_result"
    }
   ],
   "source": [
    "(df['col0']>5) & (df['rand']<0.0)"
   ]
  },
  {
   "cell_type": "markdown",
   "metadata": {},
   "source": [
    "#### **EFFICIENCY**"
   ]
  },
  {
   "cell_type": "code",
   "execution_count": 117,
   "metadata": {},
   "outputs": [
    {
     "data": {
      "text/plain": [
       "1970-01-04    False\n",
       "1970-01-11    False\n",
       "1970-01-18    False\n",
       "1970-01-25    False\n",
       "1970-02-01    False\n",
       "1970-02-08    False\n",
       "1970-02-15    False\n",
       "1970-02-22     True\n",
       "1970-03-01    False\n",
       "1970-03-08     True\n",
       "Freq: W-SUN, dtype: bool"
      ]
     },
     "execution_count": 117,
     "metadata": {},
     "output_type": "execute_result"
    }
   ],
   "source": [
    "# save boolean traversing in a variable \n",
    "bool_idx = (df['col0']>5) & (df['rand']<0.0)\n",
    "bool_idx   "
   ]
  },
  {
   "cell_type": "code",
   "execution_count": 119,
   "metadata": {
    "scrolled": true
   },
   "outputs": [
    {
     "data": {
      "text/html": [
       "<div>\n",
       "<style scoped>\n",
       "    .dataframe tbody tr th:only-of-type {\n",
       "        vertical-align: middle;\n",
       "    }\n",
       "\n",
       "    .dataframe tbody tr th {\n",
       "        vertical-align: top;\n",
       "    }\n",
       "\n",
       "    .dataframe thead th {\n",
       "        text-align: right;\n",
       "    }\n",
       "</style>\n",
       "<table border=\"1\" class=\"dataframe\">\n",
       "  <thead>\n",
       "    <tr style=\"text-align: right;\">\n",
       "      <th></th>\n",
       "      <th>col0</th>\n",
       "      <th>col1</th>\n",
       "      <th>rand</th>\n",
       "    </tr>\n",
       "  </thead>\n",
       "  <tbody>\n",
       "    <tr>\n",
       "      <td>1970-02-22</td>\n",
       "      <td>7</td>\n",
       "      <td>107</td>\n",
       "      <td>-0.761207</td>\n",
       "    </tr>\n",
       "    <tr>\n",
       "      <td>1970-03-08</td>\n",
       "      <td>9</td>\n",
       "      <td>109</td>\n",
       "      <td>-0.249370</td>\n",
       "    </tr>\n",
       "  </tbody>\n",
       "</table>\n",
       "</div>"
      ],
      "text/plain": [
       "            col0  col1      rand\n",
       "1970-02-22     7   107 -0.761207\n",
       "1970-03-08     9   109 -0.249370"
      ]
     },
     "execution_count": 119,
     "metadata": {},
     "output_type": "execute_result"
    }
   ],
   "source": [
    "df[bool_idx]  # returns the slice where condition = true"
   ]
  },
  {
   "cell_type": "markdown",
   "metadata": {},
   "source": [
    "### DF manipulation"
   ]
  },
  {
   "cell_type": "code",
   "execution_count": 120,
   "metadata": {},
   "outputs": [
    {
     "name": "stdout",
     "output_type": "stream",
     "text": [
      "<class 'pandas.core.frame.DataFrame'>\n",
      "DatetimeIndex: 10 entries, 1970-01-04 to 1970-03-08\n",
      "Freq: W-SUN\n",
      "Data columns (total 3 columns):\n",
      "col0    10 non-null int64\n",
      "col1    10 non-null int64\n",
      "rand    10 non-null float64\n",
      "dtypes: float64(1), int64(2)\n",
      "memory usage: 640.0 bytes\n"
     ]
    }
   ],
   "source": [
    "df.info()"
   ]
  },
  {
   "cell_type": "code",
   "execution_count": 121,
   "metadata": {},
   "outputs": [
    {
     "name": "stdout",
     "output_type": "stream",
     "text": [
      "<class 'pandas.core.frame.DataFrame'>\n",
      "DatetimeIndex: 2 entries, 1970-02-22 to 1970-03-08\n",
      "Freq: 2W-SUN\n",
      "Data columns (total 3 columns):\n",
      "col0    2 non-null int64\n",
      "col1    2 non-null int64\n",
      "rand    2 non-null float64\n",
      "dtypes: float64(1), int64(2)\n",
      "memory usage: 64.0 bytes\n"
     ]
    }
   ],
   "source": [
    "df[bool_idx].info()"
   ]
  },
  {
   "cell_type": "code",
   "execution_count": 126,
   "metadata": {},
   "outputs": [],
   "source": [
    "del df['col0'] # delets a column"
   ]
  },
  {
   "cell_type": "markdown",
   "metadata": {},
   "source": [
    "## Real Data Example"
   ]
  },
  {
   "cell_type": "code",
   "execution_count": 149,
   "metadata": {},
   "outputs": [
    {
     "name": "stdout",
     "output_type": "stream",
     "text": [
      "dict_keys(['data', 'target', 'feature_names', 'DESCR'])\n"
     ]
    },
    {
     "data": {
      "text/html": [
       "<div>\n",
       "<style scoped>\n",
       "    .dataframe tbody tr th:only-of-type {\n",
       "        vertical-align: middle;\n",
       "    }\n",
       "\n",
       "    .dataframe tbody tr th {\n",
       "        vertical-align: top;\n",
       "    }\n",
       "\n",
       "    .dataframe thead th {\n",
       "        text-align: right;\n",
       "    }\n",
       "</style>\n",
       "<table border=\"1\" class=\"dataframe\">\n",
       "  <thead>\n",
       "    <tr style=\"text-align: right;\">\n",
       "      <th></th>\n",
       "      <th>MedInc</th>\n",
       "      <th>HouseAge</th>\n",
       "      <th>AveRooms</th>\n",
       "      <th>AveBedrms</th>\n",
       "      <th>Population</th>\n",
       "      <th>AveOccup</th>\n",
       "      <th>Latitude</th>\n",
       "      <th>Longitude</th>\n",
       "      <th>Target</th>\n",
       "    </tr>\n",
       "  </thead>\n",
       "  <tbody>\n",
       "    <tr>\n",
       "      <td>0</td>\n",
       "      <td>8.3252</td>\n",
       "      <td>41.0</td>\n",
       "      <td>6.984127</td>\n",
       "      <td>1.023810</td>\n",
       "      <td>322.0</td>\n",
       "      <td>2.555556</td>\n",
       "      <td>37.88</td>\n",
       "      <td>-122.23</td>\n",
       "      <td>4.526</td>\n",
       "    </tr>\n",
       "    <tr>\n",
       "      <td>1</td>\n",
       "      <td>8.3014</td>\n",
       "      <td>21.0</td>\n",
       "      <td>6.238137</td>\n",
       "      <td>0.971880</td>\n",
       "      <td>2401.0</td>\n",
       "      <td>2.109842</td>\n",
       "      <td>37.86</td>\n",
       "      <td>-122.22</td>\n",
       "      <td>3.585</td>\n",
       "    </tr>\n",
       "    <tr>\n",
       "      <td>2</td>\n",
       "      <td>7.2574</td>\n",
       "      <td>52.0</td>\n",
       "      <td>8.288136</td>\n",
       "      <td>1.073446</td>\n",
       "      <td>496.0</td>\n",
       "      <td>2.802260</td>\n",
       "      <td>37.85</td>\n",
       "      <td>-122.24</td>\n",
       "      <td>3.521</td>\n",
       "    </tr>\n",
       "    <tr>\n",
       "      <td>3</td>\n",
       "      <td>5.6431</td>\n",
       "      <td>52.0</td>\n",
       "      <td>5.817352</td>\n",
       "      <td>1.073059</td>\n",
       "      <td>558.0</td>\n",
       "      <td>2.547945</td>\n",
       "      <td>37.85</td>\n",
       "      <td>-122.25</td>\n",
       "      <td>3.413</td>\n",
       "    </tr>\n",
       "    <tr>\n",
       "      <td>4</td>\n",
       "      <td>3.8462</td>\n",
       "      <td>52.0</td>\n",
       "      <td>6.281853</td>\n",
       "      <td>1.081081</td>\n",
       "      <td>565.0</td>\n",
       "      <td>2.181467</td>\n",
       "      <td>37.85</td>\n",
       "      <td>-122.25</td>\n",
       "      <td>3.422</td>\n",
       "    </tr>\n",
       "  </tbody>\n",
       "</table>\n",
       "</div>"
      ],
      "text/plain": [
       "   MedInc  HouseAge  AveRooms  AveBedrms  Population  AveOccup  Latitude  \\\n",
       "0  8.3252      41.0  6.984127   1.023810       322.0  2.555556     37.88   \n",
       "1  8.3014      21.0  6.238137   0.971880      2401.0  2.109842     37.86   \n",
       "2  7.2574      52.0  8.288136   1.073446       496.0  2.802260     37.85   \n",
       "3  5.6431      52.0  5.817352   1.073059       558.0  2.547945     37.85   \n",
       "4  3.8462      52.0  6.281853   1.081081       565.0  2.181467     37.85   \n",
       "\n",
       "   Longitude  Target  \n",
       "0    -122.23   4.526  \n",
       "1    -122.22   3.585  \n",
       "2    -122.24   3.521  \n",
       "3    -122.25   3.413  \n",
       "4    -122.25   3.422  "
      ]
     },
     "execution_count": 149,
     "metadata": {},
     "output_type": "execute_result"
    }
   ],
   "source": [
    "# Import Dataset\n",
    "## returns data/target dictionary \n",
    "### must create a df\n",
    "from sklearn import datasets\n",
    "data = datasets.fetch_california_housing()# datasets.load_iris()\n",
    "print(data.keys())\n",
    "#print(data.DESCR) # dataset description\n",
    "df =  pd.concat([pd.DataFrame(data.data,columns=data.feature_names),\\\n",
    "                 pd.DataFrame(data.target,columns=['Target'])],axis=1)\n",
    "\n",
    "df.head()"
   ]
  },
  {
   "cell_type": "markdown",
   "metadata": {},
   "source": [
    "#### Observing data from shell command "
   ]
  },
  {
   "cell_type": "raw",
   "metadata": {},
   "source": [
    "!!head -2 ../Data/dataset_location.csv \n",
    "# retrieve 2 first rows of data\n",
    "\n",
    "df_read = pd.read_csv('location.csv', usecols = cols, index_col = ['col1'])"
   ]
  },
  {
   "cell_type": "code",
   "execution_count": 127,
   "metadata": {},
   "outputs": [],
   "source": [
    "df.sort_index(inplace=True)"
   ]
  },
  {
   "cell_type": "markdown",
   "metadata": {},
   "source": [
    "#### Styling notebook"
   ]
  },
  {
   "cell_type": "raw",
   "metadata": {},
   "source": [
    "pd.set_option('notebook_repr_html', False) # no table format\n",
    "pd.set_option('max_columns',50)\n",
    "\n",
    "pd.set_option?"
   ]
  },
  {
   "cell_type": "code",
   "execution_count": 148,
   "metadata": {},
   "outputs": [
    {
     "name": "stderr",
     "output_type": "stream",
     "text": [
      "C:\\Users\\09ale\\Anaconda3\\lib\\site-packages\\ipykernel_launcher.py:2: FutureWarning: \n",
      ".ix is deprecated. Please use\n",
      ".loc for label based indexing or\n",
      ".iloc for positional indexing\n",
      "\n",
      "See the documentation here:\n",
      "http://pandas.pydata.org/pandas-docs/stable/user_guide/indexing.html#ix-indexer-is-deprecated\n",
      "  \n"
     ]
    },
    {
     "data": {
      "text/html": [
       "<div>\n",
       "<style scoped>\n",
       "    .dataframe tbody tr th:only-of-type {\n",
       "        vertical-align: middle;\n",
       "    }\n",
       "\n",
       "    .dataframe tbody tr th {\n",
       "        vertical-align: top;\n",
       "    }\n",
       "\n",
       "    .dataframe thead th {\n",
       "        text-align: right;\n",
       "    }\n",
       "</style>\n",
       "<table border=\"1\" class=\"dataframe\">\n",
       "  <thead>\n",
       "    <tr style=\"text-align: right;\">\n",
       "      <th></th>\n",
       "      <th>AveBedrms</th>\n",
       "      <th>Population</th>\n",
       "      <th>AveOccup</th>\n",
       "    </tr>\n",
       "  </thead>\n",
       "  <tbody>\n",
       "    <tr>\n",
       "      <td>0</td>\n",
       "      <td>1.023810</td>\n",
       "      <td>322.0</td>\n",
       "      <td>2.555556</td>\n",
       "    </tr>\n",
       "    <tr>\n",
       "      <td>1</td>\n",
       "      <td>0.971880</td>\n",
       "      <td>2401.0</td>\n",
       "      <td>2.109842</td>\n",
       "    </tr>\n",
       "    <tr>\n",
       "      <td>2</td>\n",
       "      <td>1.073446</td>\n",
       "      <td>496.0</td>\n",
       "      <td>2.802260</td>\n",
       "    </tr>\n",
       "    <tr>\n",
       "      <td>3</td>\n",
       "      <td>1.073059</td>\n",
       "      <td>558.0</td>\n",
       "      <td>2.547945</td>\n",
       "    </tr>\n",
       "  </tbody>\n",
       "</table>\n",
       "</div>"
      ],
      "text/plain": [
       "   AveBedrms  Population  AveOccup\n",
       "0   1.023810       322.0  2.555556\n",
       "1   0.971880      2401.0  2.109842\n",
       "2   1.073446       496.0  2.802260\n",
       "3   1.073059       558.0  2.547945"
      ]
     },
     "execution_count": 148,
     "metadata": {},
     "output_type": "execute_result"
    }
   ],
   "source": [
    "# Depreciated, row and column indexing\n",
    "df.ix[:3,['AveBedrms','Population','AveOccup']]"
   ]
  },
  {
   "cell_type": "markdown",
   "metadata": {},
   "source": [
    "#### List comprehension to find word "
   ]
  },
  {
   "cell_type": "code",
   "execution_count": 165,
   "metadata": {},
   "outputs": [
    {
     "data": {
      "text/plain": [
       "['Latitude', 'Longitude']"
      ]
     },
     "execution_count": 165,
     "metadata": {},
     "output_type": "execute_result"
    }
   ],
   "source": [
    "words = [c for c in df.columns if 'tude' in c]\n",
    "words"
   ]
  },
  {
   "cell_type": "markdown",
   "metadata": {},
   "source": [
    "#### slice data based on index"
   ]
  },
  {
   "cell_type": "code",
   "execution_count": 166,
   "metadata": {},
   "outputs": [
    {
     "data": {
      "text/html": [
       "<div>\n",
       "<style scoped>\n",
       "    .dataframe tbody tr th:only-of-type {\n",
       "        vertical-align: middle;\n",
       "    }\n",
       "\n",
       "    .dataframe tbody tr th {\n",
       "        vertical-align: top;\n",
       "    }\n",
       "\n",
       "    .dataframe thead th {\n",
       "        text-align: right;\n",
       "    }\n",
       "</style>\n",
       "<table border=\"1\" class=\"dataframe\">\n",
       "  <thead>\n",
       "    <tr style=\"text-align: right;\">\n",
       "      <th></th>\n",
       "      <th>Latitude</th>\n",
       "      <th>Longitude</th>\n",
       "    </tr>\n",
       "  </thead>\n",
       "  <tbody>\n",
       "    <tr>\n",
       "      <td>0</td>\n",
       "      <td>37.88</td>\n",
       "      <td>-122.23</td>\n",
       "    </tr>\n",
       "    <tr>\n",
       "      <td>1</td>\n",
       "      <td>37.86</td>\n",
       "      <td>-122.22</td>\n",
       "    </tr>\n",
       "  </tbody>\n",
       "</table>\n",
       "</div>"
      ],
      "text/plain": [
       "   Latitude  Longitude\n",
       "0     37.88    -122.23\n",
       "1     37.86    -122.22"
      ]
     },
     "execution_count": 166,
     "metadata": {},
     "output_type": "execute_result"
    }
   ],
   "source": [
    "df[words].head(2)"
   ]
  },
  {
   "cell_type": "code",
   "execution_count": 168,
   "metadata": {},
   "outputs": [
    {
     "data": {
      "text/html": [
       "<div>\n",
       "<style scoped>\n",
       "    .dataframe tbody tr th:only-of-type {\n",
       "        vertical-align: middle;\n",
       "    }\n",
       "\n",
       "    .dataframe tbody tr th {\n",
       "        vertical-align: top;\n",
       "    }\n",
       "\n",
       "    .dataframe thead th {\n",
       "        text-align: right;\n",
       "    }\n",
       "</style>\n",
       "<table border=\"1\" class=\"dataframe\">\n",
       "  <thead>\n",
       "    <tr style=\"text-align: right;\">\n",
       "      <th></th>\n",
       "      <th>Latitude</th>\n",
       "      <th>Longitude</th>\n",
       "      <th>MedInc</th>\n",
       "      <th>MedInc</th>\n",
       "    </tr>\n",
       "  </thead>\n",
       "  <tbody>\n",
       "    <tr>\n",
       "      <td>0</td>\n",
       "      <td>37.88</td>\n",
       "      <td>-122.23</td>\n",
       "      <td>8.3252</td>\n",
       "      <td>8.3252</td>\n",
       "    </tr>\n",
       "    <tr>\n",
       "      <td>1</td>\n",
       "      <td>37.86</td>\n",
       "      <td>-122.22</td>\n",
       "      <td>8.3014</td>\n",
       "      <td>8.3014</td>\n",
       "    </tr>\n",
       "    <tr>\n",
       "      <td>2</td>\n",
       "      <td>37.85</td>\n",
       "      <td>-122.24</td>\n",
       "      <td>7.2574</td>\n",
       "      <td>7.2574</td>\n",
       "    </tr>\n",
       "  </tbody>\n",
       "</table>\n",
       "</div>"
      ],
      "text/plain": [
       "   Latitude  Longitude  MedInc  MedInc\n",
       "0     37.88    -122.23  8.3252  8.3252\n",
       "1     37.86    -122.22  8.3014  8.3014\n",
       "2     37.85    -122.24  7.2574  7.2574"
      ]
     },
     "execution_count": 168,
     "metadata": {},
     "output_type": "execute_result"
    }
   ],
   "source": [
    "# add feature to list and slice \n",
    "words.append('MedInc')\n",
    "df[words].head(3)"
   ]
  },
  {
   "cell_type": "markdown",
   "metadata": {},
   "source": [
    "#### Boolean Indexing -> Finding data of specific value \n",
    "- the size of the boolean index is the same as the original data"
   ]
  },
  {
   "cell_type": "code",
   "execution_count": 174,
   "metadata": {},
   "outputs": [
    {
     "name": "stdout",
     "output_type": "stream",
     "text": [
      "(20640,) (20640,)\n"
     ]
    },
    {
     "data": {
      "text/plain": [
       "0    False\n",
       "1    False\n",
       "2    False\n",
       "3    False\n",
       "4    False\n",
       "Name: HouseAge, dtype: bool"
      ]
     },
     "execution_count": 174,
     "metadata": {},
     "output_type": "execute_result"
    }
   ],
   "source": [
    "# find instances where HouseAge = 26\n",
    "age_26 = df['HouseAge'] == 26\n",
    "print (df.HouseAge.shape, age_26.shape)\n",
    "age_26[:5]"
   ]
  },
  {
   "cell_type": "markdown",
   "metadata": {},
   "source": [
    "#### Slicing data using Boolean indexing"
   ]
  },
  {
   "cell_type": "code",
   "execution_count": 189,
   "metadata": {
    "scrolled": true
   },
   "outputs": [
    {
     "data": {
      "text/html": [
       "<div>\n",
       "<style scoped>\n",
       "    .dataframe tbody tr th:only-of-type {\n",
       "        vertical-align: middle;\n",
       "    }\n",
       "\n",
       "    .dataframe tbody tr th {\n",
       "        vertical-align: top;\n",
       "    }\n",
       "\n",
       "    .dataframe thead th {\n",
       "        text-align: right;\n",
       "    }\n",
       "</style>\n",
       "<table border=\"1\" class=\"dataframe\">\n",
       "  <thead>\n",
       "    <tr style=\"text-align: right;\">\n",
       "      <th></th>\n",
       "      <th>MedInc</th>\n",
       "      <th>HouseAge</th>\n",
       "      <th>AveRooms</th>\n",
       "      <th>AveBedrms</th>\n",
       "      <th>Population</th>\n",
       "      <th>AveOccup</th>\n",
       "      <th>Latitude</th>\n",
       "      <th>Longitude</th>\n",
       "      <th>Target</th>\n",
       "    </tr>\n",
       "  </thead>\n",
       "  <tbody>\n",
       "    <tr>\n",
       "      <td>70</td>\n",
       "      <td>1.7719</td>\n",
       "      <td>26.0</td>\n",
       "      <td>6.047244</td>\n",
       "      <td>1.196850</td>\n",
       "      <td>392.0</td>\n",
       "      <td>3.086614</td>\n",
       "      <td>37.81</td>\n",
       "      <td>-122.29</td>\n",
       "      <td>0.825</td>\n",
       "    </tr>\n",
       "    <tr>\n",
       "      <td>112</td>\n",
       "      <td>3.0233</td>\n",
       "      <td>26.0</td>\n",
       "      <td>3.253081</td>\n",
       "      <td>0.982744</td>\n",
       "      <td>1749.0</td>\n",
       "      <td>1.437141</td>\n",
       "      <td>37.82</td>\n",
       "      <td>-122.25</td>\n",
       "      <td>2.550</td>\n",
       "    </tr>\n",
       "    <tr>\n",
       "      <td>135</td>\n",
       "      <td>8.4010</td>\n",
       "      <td>26.0</td>\n",
       "      <td>7.530806</td>\n",
       "      <td>1.056872</td>\n",
       "      <td>542.0</td>\n",
       "      <td>2.568720</td>\n",
       "      <td>37.83</td>\n",
       "      <td>-122.20</td>\n",
       "      <td>3.512</td>\n",
       "    </tr>\n",
       "    <tr>\n",
       "      <td>321</td>\n",
       "      <td>1.9479</td>\n",
       "      <td>26.0</td>\n",
       "      <td>4.267327</td>\n",
       "      <td>0.980198</td>\n",
       "      <td>984.0</td>\n",
       "      <td>3.247525</td>\n",
       "      <td>37.76</td>\n",
       "      <td>-122.19</td>\n",
       "      <td>0.858</td>\n",
       "    </tr>\n",
       "    <tr>\n",
       "      <td>360</td>\n",
       "      <td>5.3700</td>\n",
       "      <td>26.0</td>\n",
       "      <td>6.127580</td>\n",
       "      <td>0.921201</td>\n",
       "      <td>1222.0</td>\n",
       "      <td>2.292683</td>\n",
       "      <td>37.76</td>\n",
       "      <td>-122.13</td>\n",
       "      <td>2.754</td>\n",
       "    </tr>\n",
       "    <tr>\n",
       "      <td>...</td>\n",
       "      <td>...</td>\n",
       "      <td>...</td>\n",
       "      <td>...</td>\n",
       "      <td>...</td>\n",
       "      <td>...</td>\n",
       "      <td>...</td>\n",
       "      <td>...</td>\n",
       "      <td>...</td>\n",
       "      <td>...</td>\n",
       "    </tr>\n",
       "    <tr>\n",
       "      <td>20576</td>\n",
       "      <td>3.4187</td>\n",
       "      <td>26.0</td>\n",
       "      <td>5.230769</td>\n",
       "      <td>0.942308</td>\n",
       "      <td>194.0</td>\n",
       "      <td>3.730769</td>\n",
       "      <td>38.83</td>\n",
       "      <td>-122.00</td>\n",
       "      <td>0.984</td>\n",
       "    </tr>\n",
       "    <tr>\n",
       "      <td>20585</td>\n",
       "      <td>3.0486</td>\n",
       "      <td>26.0</td>\n",
       "      <td>4.756410</td>\n",
       "      <td>0.948718</td>\n",
       "      <td>689.0</td>\n",
       "      <td>2.944444</td>\n",
       "      <td>38.68</td>\n",
       "      <td>-122.04</td>\n",
       "      <td>0.836</td>\n",
       "    </tr>\n",
       "    <tr>\n",
       "      <td>20605</td>\n",
       "      <td>1.8355</td>\n",
       "      <td>26.0</td>\n",
       "      <td>4.424051</td>\n",
       "      <td>0.995253</td>\n",
       "      <td>2017.0</td>\n",
       "      <td>3.191456</td>\n",
       "      <td>39.12</td>\n",
       "      <td>-121.58</td>\n",
       "      <td>0.612</td>\n",
       "    </tr>\n",
       "    <tr>\n",
       "      <td>20612</td>\n",
       "      <td>1.4934</td>\n",
       "      <td>26.0</td>\n",
       "      <td>5.157303</td>\n",
       "      <td>1.082397</td>\n",
       "      <td>761.0</td>\n",
       "      <td>2.850187</td>\n",
       "      <td>39.08</td>\n",
       "      <td>-121.56</td>\n",
       "      <td>0.483</td>\n",
       "    </tr>\n",
       "    <tr>\n",
       "      <td>20614</td>\n",
       "      <td>2.4695</td>\n",
       "      <td>26.0</td>\n",
       "      <td>4.801688</td>\n",
       "      <td>0.970464</td>\n",
       "      <td>1455.0</td>\n",
       "      <td>3.069620</td>\n",
       "      <td>39.08</td>\n",
       "      <td>-121.54</td>\n",
       "      <td>0.580</td>\n",
       "    </tr>\n",
       "  </tbody>\n",
       "</table>\n",
       "<p>619 rows × 9 columns</p>\n",
       "</div>"
      ],
      "text/plain": [
       "       MedInc  HouseAge  AveRooms  AveBedrms  Population  AveOccup  Latitude  \\\n",
       "70     1.7719      26.0  6.047244   1.196850       392.0  3.086614     37.81   \n",
       "112    3.0233      26.0  3.253081   0.982744      1749.0  1.437141     37.82   \n",
       "135    8.4010      26.0  7.530806   1.056872       542.0  2.568720     37.83   \n",
       "321    1.9479      26.0  4.267327   0.980198       984.0  3.247525     37.76   \n",
       "360    5.3700      26.0  6.127580   0.921201      1222.0  2.292683     37.76   \n",
       "...       ...       ...       ...        ...         ...       ...       ...   \n",
       "20576  3.4187      26.0  5.230769   0.942308       194.0  3.730769     38.83   \n",
       "20585  3.0486      26.0  4.756410   0.948718       689.0  2.944444     38.68   \n",
       "20605  1.8355      26.0  4.424051   0.995253      2017.0  3.191456     39.12   \n",
       "20612  1.4934      26.0  5.157303   1.082397       761.0  2.850187     39.08   \n",
       "20614  2.4695      26.0  4.801688   0.970464      1455.0  3.069620     39.08   \n",
       "\n",
       "       Longitude  Target  \n",
       "70       -122.29   0.825  \n",
       "112      -122.25   2.550  \n",
       "135      -122.20   3.512  \n",
       "321      -122.19   0.858  \n",
       "360      -122.13   2.754  \n",
       "...          ...     ...  \n",
       "20576    -122.00   0.984  \n",
       "20585    -122.04   0.836  \n",
       "20605    -121.58   0.612  \n",
       "20612    -121.56   0.483  \n",
       "20614    -121.54   0.580  \n",
       "\n",
       "[619 rows x 9 columns]"
      ]
     },
     "execution_count": 189,
     "metadata": {},
     "output_type": "execute_result"
    }
   ],
   "source": [
    "df_26 = df[age_26]\n",
    "df_26"
   ]
  },
  {
   "cell_type": "markdown",
   "metadata": {},
   "source": [
    "#### Finding max value by index"
   ]
  },
  {
   "cell_type": "code",
   "execution_count": 176,
   "metadata": {},
   "outputs": [
    {
     "data": {
      "text/plain": [
       "MedInc        18504\n",
       "HouseAge         70\n",
       "AveRooms      20094\n",
       "AveBedrms     20094\n",
       "Population     7361\n",
       "AveOccup      16420\n",
       "Latitude      18855\n",
       "Longitude     12458\n",
       "Target         4049\n",
       "dtype: int64"
      ]
     },
     "execution_count": 176,
     "metadata": {},
     "output_type": "execute_result"
    }
   ],
   "source": [
    "df[age_26].idxmax() # finds max value and associated index for each feature"
   ]
  },
  {
   "cell_type": "code",
   "execution_count": 184,
   "metadata": {},
   "outputs": [
    {
     "data": {
      "text/plain": [
       "MedInc         15.0001\n",
       "HouseAge       26.0000\n",
       "AveRooms       12.5000\n",
       "AveBedrms       1.2500\n",
       "Population     17.0000\n",
       "AveOccup        4.2500\n",
       "Latitude       37.1300\n",
       "Longitude    -121.9600\n",
       "Target          4.0000\n",
       "Name: 18504, dtype: float64"
      ]
     },
     "execution_count": 184,
     "metadata": {},
     "output_type": "execute_result"
    }
   ],
   "source": [
    "df.iloc[df.index[18504]] # confirm that max vakye fir MedInx at said row"
   ]
  },
  {
   "cell_type": "markdown",
   "metadata": {},
   "source": [
    " #### Advanced Conditional Indexing"
   ]
  },
  {
   "cell_type": "code",
   "execution_count": 195,
   "metadata": {},
   "outputs": [
    {
     "data": {
      "text/html": [
       "<div>\n",
       "<style scoped>\n",
       "    .dataframe tbody tr th:only-of-type {\n",
       "        vertical-align: middle;\n",
       "    }\n",
       "\n",
       "    .dataframe tbody tr th {\n",
       "        vertical-align: top;\n",
       "    }\n",
       "\n",
       "    .dataframe thead th {\n",
       "        text-align: right;\n",
       "    }\n",
       "</style>\n",
       "<table border=\"1\" class=\"dataframe\">\n",
       "  <thead>\n",
       "    <tr style=\"text-align: right;\">\n",
       "      <th></th>\n",
       "      <th>MedInc</th>\n",
       "      <th>HouseAge</th>\n",
       "      <th>AveRooms</th>\n",
       "      <th>AveBedrms</th>\n",
       "      <th>Population</th>\n",
       "      <th>AveOccup</th>\n",
       "      <th>Latitude</th>\n",
       "      <th>Longitude</th>\n",
       "      <th>Target</th>\n",
       "    </tr>\n",
       "  </thead>\n",
       "  <tbody>\n",
       "    <tr>\n",
       "      <td>70</td>\n",
       "      <td>1.7719</td>\n",
       "      <td>26.0</td>\n",
       "      <td>6.047244</td>\n",
       "      <td>1.196850</td>\n",
       "      <td>392.0</td>\n",
       "      <td>3.086614</td>\n",
       "      <td>37.81</td>\n",
       "      <td>-122.29</td>\n",
       "      <td>0.825</td>\n",
       "    </tr>\n",
       "    <tr>\n",
       "      <td>135</td>\n",
       "      <td>8.4010</td>\n",
       "      <td>26.0</td>\n",
       "      <td>7.530806</td>\n",
       "      <td>1.056872</td>\n",
       "      <td>542.0</td>\n",
       "      <td>2.568720</td>\n",
       "      <td>37.83</td>\n",
       "      <td>-122.20</td>\n",
       "      <td>3.512</td>\n",
       "    </tr>\n",
       "    <tr>\n",
       "      <td>360</td>\n",
       "      <td>5.3700</td>\n",
       "      <td>26.0</td>\n",
       "      <td>6.127580</td>\n",
       "      <td>0.921201</td>\n",
       "      <td>1222.0</td>\n",
       "      <td>2.292683</td>\n",
       "      <td>37.76</td>\n",
       "      <td>-122.13</td>\n",
       "      <td>2.754</td>\n",
       "    </tr>\n",
       "    <tr>\n",
       "      <td>581</td>\n",
       "      <td>5.4834</td>\n",
       "      <td>26.0</td>\n",
       "      <td>6.619835</td>\n",
       "      <td>0.985537</td>\n",
       "      <td>1411.0</td>\n",
       "      <td>2.915289</td>\n",
       "      <td>37.72</td>\n",
       "      <td>-122.07</td>\n",
       "      <td>2.952</td>\n",
       "    </tr>\n",
       "    <tr>\n",
       "      <td>645</td>\n",
       "      <td>7.9120</td>\n",
       "      <td>26.0</td>\n",
       "      <td>7.209068</td>\n",
       "      <td>0.992443</td>\n",
       "      <td>1030.0</td>\n",
       "      <td>2.594458</td>\n",
       "      <td>37.72</td>\n",
       "      <td>-122.13</td>\n",
       "      <td>3.673</td>\n",
       "    </tr>\n",
       "    <tr>\n",
       "      <td>...</td>\n",
       "      <td>...</td>\n",
       "      <td>...</td>\n",
       "      <td>...</td>\n",
       "      <td>...</td>\n",
       "      <td>...</td>\n",
       "      <td>...</td>\n",
       "      <td>...</td>\n",
       "      <td>...</td>\n",
       "      <td>...</td>\n",
       "    </tr>\n",
       "    <tr>\n",
       "      <td>20472</td>\n",
       "      <td>4.5673</td>\n",
       "      <td>26.0</td>\n",
       "      <td>6.294964</td>\n",
       "      <td>1.021583</td>\n",
       "      <td>962.0</td>\n",
       "      <td>3.460432</td>\n",
       "      <td>34.26</td>\n",
       "      <td>-118.76</td>\n",
       "      <td>1.904</td>\n",
       "    </tr>\n",
       "    <tr>\n",
       "      <td>20473</td>\n",
       "      <td>5.4038</td>\n",
       "      <td>26.0</td>\n",
       "      <td>6.028125</td>\n",
       "      <td>0.915625</td>\n",
       "      <td>1067.0</td>\n",
       "      <td>3.334375</td>\n",
       "      <td>34.26</td>\n",
       "      <td>-118.76</td>\n",
       "      <td>2.221</td>\n",
       "    </tr>\n",
       "    <tr>\n",
       "      <td>20474</td>\n",
       "      <td>5.4787</td>\n",
       "      <td>26.0</td>\n",
       "      <td>7.068000</td>\n",
       "      <td>1.060000</td>\n",
       "      <td>1040.0</td>\n",
       "      <td>4.160000</td>\n",
       "      <td>34.26</td>\n",
       "      <td>-118.75</td>\n",
       "      <td>1.981</td>\n",
       "    </tr>\n",
       "    <tr>\n",
       "      <td>20490</td>\n",
       "      <td>5.4770</td>\n",
       "      <td>26.0</td>\n",
       "      <td>6.450413</td>\n",
       "      <td>0.876033</td>\n",
       "      <td>817.0</td>\n",
       "      <td>3.376033</td>\n",
       "      <td>34.27</td>\n",
       "      <td>-118.68</td>\n",
       "      <td>2.091</td>\n",
       "    </tr>\n",
       "    <tr>\n",
       "      <td>20576</td>\n",
       "      <td>3.4187</td>\n",
       "      <td>26.0</td>\n",
       "      <td>5.230769</td>\n",
       "      <td>0.942308</td>\n",
       "      <td>194.0</td>\n",
       "      <td>3.730769</td>\n",
       "      <td>38.83</td>\n",
       "      <td>-122.00</td>\n",
       "      <td>0.984</td>\n",
       "    </tr>\n",
       "  </tbody>\n",
       "</table>\n",
       "<p>226 rows × 9 columns</p>\n",
       "</div>"
      ],
      "text/plain": [
       "       MedInc  HouseAge  AveRooms  AveBedrms  Population  AveOccup  Latitude  \\\n",
       "70     1.7719      26.0  6.047244   1.196850       392.0  3.086614     37.81   \n",
       "135    8.4010      26.0  7.530806   1.056872       542.0  2.568720     37.83   \n",
       "360    5.3700      26.0  6.127580   0.921201      1222.0  2.292683     37.76   \n",
       "581    5.4834      26.0  6.619835   0.985537      1411.0  2.915289     37.72   \n",
       "645    7.9120      26.0  7.209068   0.992443      1030.0  2.594458     37.72   \n",
       "...       ...       ...       ...        ...         ...       ...       ...   \n",
       "20472  4.5673      26.0  6.294964   1.021583       962.0  3.460432     34.26   \n",
       "20473  5.4038      26.0  6.028125   0.915625      1067.0  3.334375     34.26   \n",
       "20474  5.4787      26.0  7.068000   1.060000      1040.0  4.160000     34.26   \n",
       "20490  5.4770      26.0  6.450413   0.876033       817.0  3.376033     34.27   \n",
       "20576  3.4187      26.0  5.230769   0.942308       194.0  3.730769     38.83   \n",
       "\n",
       "       Longitude  Target  \n",
       "70       -122.29   0.825  \n",
       "135      -122.20   3.512  \n",
       "360      -122.13   2.754  \n",
       "581      -122.07   2.952  \n",
       "645      -122.13   3.673  \n",
       "...          ...     ...  \n",
       "20472    -118.76   1.904  \n",
       "20473    -118.76   2.221  \n",
       "20474    -118.75   1.981  \n",
       "20490    -118.68   2.091  \n",
       "20576    -122.00   0.984  \n",
       "\n",
       "[226 rows x 9 columns]"
      ]
     },
     "execution_count": 195,
     "metadata": {},
     "output_type": "execute_result"
    }
   ],
   "source": [
    "# 2 conditions\n",
    "df_26[ (df_26['Population']<300) & (df_26['AveRooms']>6)]  \n",
    "                    # OR \n",
    "df_26[ (df_26['Population']<300) | (df_26['AveRooms']>6)]  "
   ]
  },
  {
   "cell_type": "code",
   "execution_count": 196,
   "metadata": {},
   "outputs": [
    {
     "data": {
      "text/plain": [
       "<matplotlib.axes._subplots.AxesSubplot at 0x1efe56ea288>"
      ]
     },
     "execution_count": 196,
     "metadata": {},
     "output_type": "execute_result"
    },
    {
     "data": {
      "image/png": "[encoded data removed]",
      "text/plain": [
       "<Figure size 432x288 with 1 Axes>"
      ]
     },
     "metadata": {
      "needs_background": "light"
     },
     "output_type": "display_data"
    }
   ],
   "source": [
    "df_26['Population'].plot(kind='hist',bins=20,range=(10,300))"
   ]
  },
  {
   "cell_type": "code",
   "execution_count": 210,
   "metadata": {},
   "outputs": [
    {
     "data": {
      "text/plain": [
       "<matplotlib.axes._subplots.AxesSubplot at 0x1efe8cd1fc8>"
      ]
     },
     "execution_count": 210,
     "metadata": {},
     "output_type": "execute_result"
    },
    {
     "data": {
      "image/png": "[encoded data removed]",
      "text/plain": [
       "<Figure size 432x288 with 1 Axes>"
      ]
     },
     "metadata": {
      "needs_background": "light"
     },
     "output_type": "display_data"
    }
   ],
   "source": [
    "# Not very effective\n",
    "df_26['Population'][:50].plot(kind='bar')"
   ]
  },
  {
   "cell_type": "markdown",
   "metadata": {},
   "source": [
    "#### GroupBy\n",
    "- Level 0 -> rows \n",
    "- Level 1 -> columns"
   ]
  },
  {
   "cell_type": "code",
   "execution_count": 212,
   "metadata": {},
   "outputs": [],
   "source": [
    "grpby = df_26[:50].groupby(level=0)"
   ]
  },
  {
   "cell_type": "code",
   "execution_count": 209,
   "metadata": {},
   "outputs": [
    {
     "data": {
      "text/plain": [
       "<matplotlib.axes._subplots.AxesSubplot at 0x1efe8b66388>"
      ]
     },
     "execution_count": 209,
     "metadata": {},
     "output_type": "execute_result"
    },
    {
     "data": {
      "image/png": "[encoded data removed]",
      "text/plain": [
       "<Figure size 432x288 with 1 Axes>"
      ]
     },
     "metadata": {
      "needs_background": "light"
     },
     "output_type": "display_data"
    }
   ],
   "source": [
    "grpby['Population'].mean().plot(kind='bar')"
   ]
  },
  {
   "cell_type": "markdown",
   "metadata": {},
   "source": [
    "======================   END   ====================="
   ]
  }
 ],
 "metadata": {
  "kernelspec": {
   "display_name": "Python 3",
   "language": "python",
   "name": "python3"
  },
  "language_info": {
   "codemirror_mode": {
    "name": "ipython",
    "version": 3
   },
   "file_extension": ".py",
   "mimetype": "text/x-python",
   "name": "python",
   "nbconvert_exporter": "python",
   "pygments_lexer": "ipython3",
   "version": "3.7.4"
  }
 },
 "nbformat": 4,
 "nbformat_minor": 2
}
